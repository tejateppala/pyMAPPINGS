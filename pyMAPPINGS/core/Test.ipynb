{
 "cells": [
  {
   "cell_type": "code",
   "execution_count": 1,
   "id": "04fcb0f9-f5f2-4802-b9e3-f6aad17f4f48",
   "metadata": {},
   "outputs": [],
   "source": [
    "from mappings_model import InputModel"
   ]
  },
  {
   "cell_type": "code",
   "execution_count": 5,
   "id": "c898b273-cc4c-4628-a657-279833750305",
   "metadata": {},
   "outputs": [],
   "source": [
    "model_name = \"test_example\"\n",
    "model = InputModel(model_name)"
   ]
  },
  {
   "cell_type": "code",
   "execution_count": 6,
   "id": "1abab827-b267-45f4-bda1-96c58d7f7300",
   "metadata": {},
   "outputs": [
    {
     "data": {
      "text/plain": [
       "InputModel(model_name='test_example')"
      ]
     },
     "execution_count": 6,
     "metadata": {},
     "output_type": "execute_result"
    }
   ],
   "source": [
    "# Set abundance file\n",
    "model.set_abund(\"/home/teja/mappings520/abund/GC2016/GC_ZO_M0500.abn\")"
   ]
  },
  {
   "cell_type": "code",
   "execution_count": 7,
   "id": "124e71ef-4f08-4d97-99eb-86f013a9faf4",
   "metadata": {},
   "outputs": [
    {
     "data": {
      "text/plain": [
       "InputModel(model_name='test_example')"
      ]
     },
     "execution_count": 7,
     "metadata": {},
     "output_type": "execute_result"
    }
   ],
   "source": [
    "# Configure dust settings\n",
    "model.enable_dust(\n",
    "        depl_path=\"/home/teja/mappings520/abund/depletion/unified_depletion/Depln_Fe_1.50.txt\",\n",
    "        allow_grain_destruction=False,  # \"no\" in the target file\n",
    "        grain_distribution=\"M\",         # MRN distribution\n",
    "        pah_fraction=0.3,\n",
    "        pah_switch_value=\"4e2\",\n",
    "        eval_dust_temp=False,           # \"no\" in the target file\n",
    "        graphite_cospatial=False        # \"no\" in the target file\n",
    "    )"
   ]
  },
  {
   "cell_type": "code",
   "execution_count": 9,
   "id": "c5e77994-27a3-458b-bfa5-8f077a2e227f",
   "metadata": {},
   "outputs": [
    {
     "data": {
      "text/plain": [
       "InputModel(model_name='test_example')"
      ]
     },
     "execution_count": 9,
     "metadata": {},
     "output_type": "execute_result"
    }
   ],
   "source": [
    "# Set spectrum file (using default path from target)\n",
    "model.set_spec(\"/home/teja/mappings520/scripts/modelgrids/HII-grid401/Q/inputs/cont_a05t23isp_vm802.spectrum\")"
   ]
  },
  {
   "cell_type": "code",
   "execution_count": 11,
   "id": "bb14c83e-5009-496e-9dcd-a9acb8d77ddd",
   "metadata": {},
   "outputs": [
    {
     "name": "stdout",
     "output_type": "stream",
     "text": [
      "Model Configuration:\n",
      "==================================================\n",
      "MAPPINGS Model: test_example\n",
      "  Age index: 9\n",
      "  Geometry: S\n",
      "  Log Pressure: 6.00\n",
      "  Log Temperature: 4.00\n",
      "  Filling Factor: 1.00\n",
      "  Log Ionization Parameter: 8.00\n",
      "  Step Size: 0.0200\n",
      "  Log Luminosity: 40.00\n",
      "  Abundance file: /home/teja/mappings520/abund/GC2016/GC_ZO_M0500.abn\n",
      "  Depletion file: None\n",
      "  Spectrum file: /home/teja/mappings520/scripts/modelgrids/HII-grid401/Q/inputs/cont_a05t23isp_vm802.spectrum\n",
      "  Include dust: True\n",
      "    Dust depletion file: /home/teja/mappings520/abund/depletion/unified_depletion/Depln_Fe_1.50.txt\n",
      "    Allow grain destruction: False\n",
      "    Grain distribution: M\n",
      "    PAH fraction: 0.3\n",
      "    PAH switch value: 4e2\n",
      "    Evaluate dust temperatures: False\n",
      "    Graphite grains cospatial: False\n",
      "  Output path: None\n",
      "==================================================\n"
     ]
    }
   ],
   "source": [
    "# Set age index\n",
    "model.set_age(9)\n",
    "\n",
    "# Set geometry (spherical)\n",
    "model.set_geometry(\"S\")\n",
    "\n",
    "# Set luminosity (log scale)\n",
    "model.set_luminosity(40.0)\n",
    "\n",
    "# Set pressure (log scale)\n",
    "model.set_pressure(6.0)\n",
    "\n",
    "# Set temperature (log scale)\n",
    "model.set_temperature(4.0)\n",
    "\n",
    "# Set filling factor\n",
    "model.set_filling_factor(1.0)\n",
    "\n",
    "# Set ionization parameter (log scale)\n",
    "model.set_ionization_param(8.0)\n",
    "\n",
    "# Set step size\n",
    "model.set_step_size(0.02)\n",
    "\n",
    "# Print summary of settings\n",
    "print(\"Model Configuration:\")\n",
    "print(\"=\" * 50)\n",
    "model.summary()\n",
    "print(\"=\" * 50)"
   ]
  },
  {
   "cell_type": "code",
   "execution_count": 12,
   "id": "aa25ae98-58c3-40db-a0fc-a25e65cdea3a",
   "metadata": {},
   "outputs": [
    {
     "name": "stdout",
     "output_type": "stream",
     "text": [
      "\n",
      "Preview of generated input file:\n",
      "Input file preview:\n",
      "--------------------------------------------------\n",
      "yes   : change abundance\n",
      "/home/teja/mappings520/abund/GC2016/GC_ZO_M0500.abn\n",
      "no    : no more changes\n",
      "no    : no offsets\n",
      "yes   : include dust\n",
      "no    : use default depletions\n",
      "no    : allow grain destruction\n",
      "M     : MRN distribution\n",
      "yes   : Include PAH molecules?\n",
      "0.3   : fraction of Carbon Dust Depletion in PAHs\n",
      "Q     : PAH switch on QHDH < Value\n",
      "4e2   : PAH switch on Value\n",
      "no    : graphite grains to be cospatial with PAHs\n",
      "no    : Evaluate dust temperatures and IR flux?\n",
      "P6    : the main Mappings model to use\n",
      "D     : Default ionisation values\n",
      "H     : Input spectral energy distribution data (usually Starburst99)\n",
      "/home/teja/mappings520/scripts/modelgrids/HII-grid401/Q/inputs/cont_a05t23isp_vm802.spectrum\n",
      "9     : Age of the HII region. Age = (n-1)*0.5 Myr\n",
      "X     : eXit with current source\n",
      "N     : Include cosmic ray heating\n",
      "S     : Spherical Geometry. (For Plane parallel, 'P', different options)\n",
      "L     : Source by Luminosity\n",
      "T     : Total or Ionising Luminosity\n",
      "40.00    : bolometric source luminosity (log erg/s)\n",
      "B     : isoBaric, (const pressure)\n",
      "6.00 :  Pressure regime (p/k, <10 as log)\n",
      "4.00     : log(Initial temperature)\n",
      "1.00     : filling factor (0<f<=1)\n",
      "q     : Give initial radius in terms of distance or Q(N) (d/q) ***nb old  options\n",
      "8.00 :   Q at inner radius (< 100 as log)\n",
      "y     : Volume integration over the whole sphere? (y/n)\n",
      "E     : Equilibrium ionization balance.\n",
      "0.0200  : Step value of the photon absorption fraction  *******\n",
      "A     : Ionisation bounded, 99% neutral **********\n",
      "A   : Standard output\n",
      "testing : ID string\n",
      "X   : end model\n",
      "\n",
      "--------------------------------------------------\n",
      "Input file written to: test_example.mv\n",
      "\n",
      "Input file successfully created: test_example.mv\n"
     ]
    }
   ],
   "source": [
    "# Generate custom ID string to match target format\n",
    "custom_id = \"testing\"\n",
    "\n",
    "# Preview the input file\n",
    "print(\"\\nPreview of generated input file:\")\n",
    "model.preview_input_file(id_string=custom_id)\n",
    "\n",
    "# Write the input file\n",
    "output_filename = f\"{model_name}.mv\"\n",
    "created_file = model.write_input_file(filename=output_filename, id_string=custom_id)\n",
    "\n",
    "print(f\"\\nInput file successfully created: {created_file}\")"
   ]
  },
  {
   "cell_type": "code",
   "execution_count": null,
   "id": "eefc31d6-de31-4705-803d-5dd0001611ac",
   "metadata": {},
   "outputs": [],
   "source": []
  }
 ],
 "metadata": {
  "kernelspec": {
   "display_name": "Python 3 (ipykernel)",
   "language": "python",
   "name": "python3"
  },
  "language_info": {
   "codemirror_mode": {
    "name": "ipython",
    "version": 3
   },
   "file_extension": ".py",
   "mimetype": "text/x-python",
   "name": "python",
   "nbconvert_exporter": "python",
   "pygments_lexer": "ipython3",
   "version": "3.12.2"
  }
 },
 "nbformat": 4,
 "nbformat_minor": 5
}
